{
 "cells": [
  {
   "cell_type": "code",
   "execution_count": 1,
   "id": "d5f3ee5c-bc97-4c07-9244-303d12e2c0a6",
   "metadata": {},
   "outputs": [],
   "source": [
    "#1. Import required libraries\n",
    "import pandas as pd\n",
    "import pandasql as ps\n",
    "import numpy as np\n",
    "import matplotlib.pyplot as plt"
   ]
  },
  {
   "cell_type": "code",
   "execution_count": 2,
   "id": "aecc388c-dfdf-4e71-bd44-5508ec7fe7e5",
   "metadata": {},
   "outputs": [],
   "source": [
    "#2. Read csv\n",
    "data = pd.read_csv(r'charcters_stats.csv')\n",
    "df = pd.DataFrame(data)\n",
    "#print (data)\n",
    "#print(df)"
   ]
  },
  {
   "cell_type": "code",
   "execution_count": 3,
   "id": "ab489925-62d5-4818-9037-b94687ac0883",
   "metadata": {},
   "outputs": [
    {
     "name": "stdout",
     "output_type": "stream",
     "text": [
      "          Name Alignment  Intelligence  Strength  Speed  Durability  Power  \\\n",
      "0      3-D Man      good            50        31     43          32     25   \n",
      "1       A-Bomb      good            38       100     17          80     17   \n",
      "2   Abe Sapien      good            88        14     35          42     35   \n",
      "3     Abin Sur      good            50        90     53          64     84   \n",
      "4  Abomination       bad            63        80     53          90     55   \n",
      "\n",
      "   Combat  Total  \n",
      "0      52    233  \n",
      "1      64    316  \n",
      "2      85    299  \n",
      "3      65    406  \n",
      "4      95    436  \n"
     ]
    }
   ],
   "source": [
    "#3. Show first records from csv\n",
    "# I used ps.sqldf() to run SQL queries here in python. It is a easy and convienent way to aggregate the data\n",
    "output = ps.sqldf(\"select * from df limit 5\")\n",
    "print(output)"
   ]
  },
  {
   "cell_type": "code",
   "execution_count": 4,
   "id": "4236ed45-9f13-4126-a6fd-a6d486cdcfb3",
   "metadata": {},
   "outputs": [
    {
     "name": "stdout",
     "output_type": "stream",
     "text": [
      "Rows  Cols\n"
     ]
    },
    {
     "data": {
      "text/plain": [
       "(611, 9)"
      ]
     },
     "execution_count": 4,
     "metadata": {},
     "output_type": "execute_result"
    }
   ],
   "source": [
    "#4. Show number of rows and columns\n",
    "print(\"Rows  Cols\")\n",
    "# here I use numpy.shape() to display the size (amount of rows and cols )\n",
    "np.shape(df)"
   ]
  },
  {
   "cell_type": "code",
   "execution_count": 5,
   "id": "d01a24d5-1866-47af-9780-194eae9c0f84",
   "metadata": {},
   "outputs": [
    {
     "name": "stdout",
     "output_type": "stream",
     "text": [
      "good       432\n",
      "bad        165\n",
      "neutral     11\n",
      "Name: Alignment, dtype: int64\n"
     ]
    },
    {
     "data": {
      "text/plain": [
       "<AxesSubplot:>"
      ]
     },
     "execution_count": 5,
     "metadata": {},
     "output_type": "execute_result"
    },
    {
     "data": {
      "image/png": "[encoded data removed]",
      "text/plain": [
       "<Figure size 432x288 with 1 Axes>"
      ]
     },
     "metadata": {
      "needs_background": "light"
     },
     "output_type": "display_data"
    }
   ],
   "source": [
    "#5. You need to find the values of alignment ,can use value_counts()\n",
    "# below I use the function value_counts() to quickly count the number of super heros / villans per value\n",
    "output = df['Alignment'].value_counts()\n",
    "print(output)\n",
    "df.Alignment.value_counts().plot(kind = 'barh')"
   ]
  },
  {
   "cell_type": "code",
   "execution_count": 6,
   "id": "042ee3be-2d3c-4df7-b28e-3303876e68c0",
   "metadata": {},
   "outputs": [
    {
     "name": "stdout",
     "output_type": "stream",
     "text": [
      "                Name\n",
      "0            3-D Man\n",
      "1             A-Bomb\n",
      "2         Abe Sapien\n",
      "3           Abin Sur\n",
      "4        Adam Monroe\n",
      "..               ...\n",
      "427            X-Man\n",
      "428     Yellowjacket\n",
      "429  Yellowjacket II\n",
      "430             Ymir\n",
      "431          Zatanna\n",
      "\n",
      "[432 rows x 1 columns]\n"
     ]
    }
   ],
   "source": [
    "#6. Find out only good alignment holders superheroes\n",
    "# here i use sqldf again to run a SQL query to pull all the names of those who are good\n",
    "output = ps.sqldf(\"select Name from df where Alignment = 'good'\")\n",
    "print(output)"
   ]
  },
  {
   "cell_type": "code",
   "execution_count": 7,
   "id": "865e9fb6-d5b3-4b8b-ae94-44089a1522d7",
   "metadata": {},
   "outputs": [
    {
     "name": "stdout",
     "output_type": "stream",
     "text": [
      "          Name\n",
      "0      3-D Man\n",
      "1       A-Bomb\n",
      "2   Abe Sapien\n",
      "3     Abin Sur\n",
      "4  Adam Monroe\n"
     ]
    }
   ],
   "source": [
    "#7. Show first five records which you found in point 6\n",
    "# I use sqldf to select the top five names of supers who are good\n",
    "output = ps.sqldf(\"select Name from df where Alignment = 'good' limit 5\")\n",
    "print(output)"
   ]
  },
  {
   "cell_type": "code",
   "execution_count": 8,
   "id": "43b04928-42bf-4421-b98d-75b69bacc8f8",
   "metadata": {},
   "outputs": [
    {
     "name": "stdout",
     "output_type": "stream",
     "text": [
      "         Name  Speed\n",
      "0  Air-Walker    100\n",
      "1       Amazo    100\n",
      "2     Bizarro    100\n",
      "3  Black Bolt    100\n",
      "4     Flash I    100\n"
     ]
    }
   ],
   "source": [
    "#8. Show top five records having top speed of heroes of good alignment\n",
    "# I use sqldf here to select the top five namea of supers who are good and are the speediest\n",
    "output = ps.sqldf(\"select Name, speed from df order by speed desc limit 5\")\n",
    "print(output)"
   ]
  },
  {
   "cell_type": "code",
   "execution_count": 9,
   "id": "5bfa734b-8044-4821-89bb-c3e68cadd7a5",
   "metadata": {},
   "outputs": [
    {
     "name": "stdout",
     "output_type": "stream",
     "text": [
      "            Name  Power\n",
      "0  Beta Ray Bill    100\n",
      "1       Beyonder    100\n",
      "2     Black Bolt    100\n",
      "3          Cable    100\n",
      "4        Deadman    100\n"
     ]
    }
   ],
   "source": [
    "#9. Show 5 records of super heroes who have maximum power of good alignment\n",
    "# I use sqldf to select the top five names of supers who are good and have the highest power\n",
    "output = ps.sqldf(\"select Name, Power from df where Alignment = 'good' order by Power desc limit 5\")\n",
    "print(output)"
   ]
  },
  {
   "cell_type": "code",
   "execution_count": 10,
   "id": "bd75b967-e743-4e53-ac2f-138d1a9dee12",
   "metadata": {},
   "outputs": [
    {
     "name": "stdout",
     "output_type": "stream",
     "text": [
      "            Name  Power\n",
      "0  Beta Ray Bill    100\n",
      "1       Beyonder    100\n",
      "2     Black Bolt    100\n",
      "3          Cable    100\n",
      "4        Deadman    100\n"
     ]
    }
   ],
   "source": [
    "#10. Find out how many super heroes are there with power 100 of good alignment\n",
    "# I use sqldf to count the supers who are good and have a power of 100\n",
    "output1 = ps.sqldf(\"select count(Power = 100) as 'Good with Power 100' from df where Alignment = 'good' and Power = 100\")\n",
    "print(output)"
   ]
  },
  {
   "cell_type": "code",
   "execution_count": 11,
   "id": "8c31c03b-86cd-4fa0-a369-f78813156729",
   "metadata": {},
   "outputs": [
    {
     "name": "stdout",
     "output_type": "stream",
     "text": [
      "Shape of above output\n",
      "Rows  Cols\n",
      " (1, 1)\n",
      "Shape of total search for above output\n",
      "Rows  Cols\n",
      " (33, 1)\n"
     ]
    }
   ],
   "source": [
    "#11. Shape them what you got in point 10\n",
    "# below i use shape to pull the number of rows and columns of the outputs\n",
    "x = np.shape(output1)\n",
    "print(\"Shape of above output\\nRows  Cols\\n\", x)\n",
    "output = ps.sqldf(\"select name from df where Alignment = 'good' and Power = 100\")\n",
    "y = np.shape(output)\n",
    "print(\"Shape of total search for above output\\nRows  Cols\\n\", y)"
   ]
  },
  {
   "cell_type": "code",
   "execution_count": 12,
   "id": "7d8da00c-9bb3-4a15-8325-6b2ceb623c10",
   "metadata": {},
   "outputs": [
    {
     "name": "stdout",
     "output_type": "stream",
     "text": [
      "                 Name Alignment  Intelligence  Strength  Speed  Durability  \\\n",
      "0       Beta Ray Bill      good            63        80     35          95   \n",
      "1            Beyonder      good            88       100     23         100   \n",
      "2          Black Bolt      good            75        67    100          84   \n",
      "3               Cable      good            88        48     23          56   \n",
      "4             Deadman      good            50        10     33         100   \n",
      "5         Doctor Fate      good            81        16     25          80   \n",
      "6      Doctor Strange      good           100        10     12          84   \n",
      "7        Dr Manhattan      good            88        32     42          95   \n",
      "8           Firestorm      good            50        53     58          56   \n",
      "9                Goku      good            56       100     75          90   \n",
      "10         Hal Jordan      good            63        90     53          64   \n",
      "11             Iceman      good            63        32     53         100   \n",
      "12           Iron Man      good           100        85     58          85   \n",
      "13          Jean Grey      good           100        80     67         100   \n",
      "14            Kilowog      good            81        90     53          42   \n",
      "15  Martian Manhunter      good           100       100     96         100   \n",
      "16        Marvel Girl      good            63        85     47          42   \n",
      "17       Miss Martian      good            63        85     58         100   \n",
      "18     Naruto Uzumaki      good            50        80     32          80   \n",
      "19               Nova      good           100        85     67         101   \n",
      "20               Nova      good            38        60    100         100   \n",
      "21          Offspring      good            50        10     35          99   \n",
      "22            Phoenix      good           100        80     67         100   \n",
      "23        Plastic Man      good            50        63     23         100   \n",
      "24        Shadow King      good            75        12     27         100   \n",
      "25      Silver Surfer      good            63       100     84         101   \n",
      "26              Spawn      good            75        60     50          90   \n",
      "27           Stardust      good            88        85    100         110   \n",
      "28               Thor      good            69       100     92         100   \n",
      "29          Thor Girl      good            75        83     70          84   \n",
      "30        War Machine      good            63        80     63         100   \n",
      "31            Watcher      good           100        80     67          89   \n",
      "32            Zatanna      good            75        10     23          28   \n",
      "\n",
      "    Power  Combat  Total  \n",
      "0     100      84    457  \n",
      "1     100      56    467  \n",
      "2     100      56    482  \n",
      "3     100      80    395  \n",
      "4     100      42    335  \n",
      "5     100      50    352  \n",
      "6     100      60    366  \n",
      "7     100      42    399  \n",
      "8     100      42    359  \n",
      "9     100     100    521  \n",
      "10    100      56    426  \n",
      "11    100      64    412  \n",
      "12    100      64    492  \n",
      "13    100      70    517  \n",
      "14    100      80    446  \n",
      "15    100      85    581  \n",
      "16    100      80    417  \n",
      "17    100      45    451  \n",
      "18    100     100    442  \n",
      "19    100      85    538  \n",
      "20    100      25    423  \n",
      "21    100      56    350  \n",
      "22    100      70    517  \n",
      "23    100      56    392  \n",
      "24    100      75    389  \n",
      "25    100      32    480  \n",
      "26    100      95    470  \n",
      "27    100      85    568  \n",
      "28    100      85    546  \n",
      "29    100      70    482  \n",
      "30    100      85    491  \n",
      "31    100      56    492  \n",
      "32    100      56    292  \n"
     ]
    }
   ],
   "source": [
    "#12. Show all records from point 10\n",
    "# Use sqldf to show all the records that match what quesiton 10 asked\n",
    "output = ps.sqldf(\"select * from df where Alignment = 'good' and Power = 100\")\n",
    "print(output)\n"
   ]
  },
  {
   "cell_type": "code",
   "execution_count": 13,
   "id": "34af55cc-9f2c-430c-97d8-653828411010",
   "metadata": {},
   "outputs": [
    {
     "name": "stdout",
     "output_type": "stream",
     "text": [
      "            Name  Total  Power\n",
      "0  Beta Ray Bill    457    100\n",
      "1       Beyonder    467    100\n",
      "2     Black Bolt    482    100\n",
      "3          Cable    395    100\n",
      "4        Deadman    335    100\n"
     ]
    }
   ],
   "source": [
    "#13. Retrieve total of first five records of max power of good alignment super heroes\n",
    "# here i again use sqldf to pull the top 5 names and their power level by the max power level\n",
    "output = ps.sqldf(\"select name, Total, power from df where Alignment = 'good' order by power desc limit 5\")\n",
    "print(output)"
   ]
  },
  {
   "cell_type": "code",
   "execution_count": 14,
   "id": "0c9d49a3-e4e8-4cba-a787-266f83a09b82",
   "metadata": {},
   "outputs": [
    {
     "data": {
      "image/png": "[encoded data removed]",
      "text/plain": [
       "<Figure size 432x288 with 1 Axes>"
      ]
     },
     "metadata": {
      "needs_background": "light"
     },
     "output_type": "display_data"
    }
   ],
   "source": [
    "#14. Draw a bar plot of all super heroes who are having good alignment and max power of \n",
    "#top five only , take same object of point 13 , show name and total in plot with green\n",
    "#bars\n",
    "\n",
    "# use the previous output and grab the name (x) and total (y)\n",
    "X = output.iloc[:,0]\n",
    "Y = output.iloc[:,1]\n",
    "# create the bar graph and set the color to green\n",
    "plt.bar(X, Y, color='g')\n",
    "# change the title and the x & y labels\n",
    "plt.title(\"Good Super Heros\")\n",
    "plt.xlabel(\"Name\")\n",
    "plt.ylabel(\"Total\")\n",
    "\n",
    "plt.show()"
   ]
  },
  {
   "cell_type": "code",
   "execution_count": 15,
   "id": "5310dd01-473a-4909-a10f-880610bae9b6",
   "metadata": {},
   "outputs": [
    {
     "name": "stdout",
     "output_type": "stream",
     "text": [
      "               Name\n",
      "0       Abomination\n",
      "1           Abraxas\n",
      "2        Air-Walker\n",
      "3             Amazo\n",
      "4              Ammo\n",
      "..              ...\n",
      "160            Warp\n",
      "161       Weapon XI\n",
      "162  Willis Stryker\n",
      "163     Yellow Claw\n",
      "164            Zoom\n",
      "\n",
      "[165 rows x 1 columns]\n"
     ]
    }
   ],
   "source": [
    "#15. Extract villains having bad alignment\n",
    "# use sqldf to run SQL query that selects the names of all the supers that are bad\n",
    "output = ps.sqldf(\"select Name from df where Alignment = 'bad'\")\n",
    "print(output)"
   ]
  },
  {
   "cell_type": "code",
   "execution_count": 16,
   "id": "a837b999-1258-4ac2-9842-db249217b03c",
   "metadata": {},
   "outputs": [
    {
     "name": "stdout",
     "output_type": "stream",
     "text": [
      "          Name\n",
      "0  Abomination\n",
      "1      Abraxas\n",
      "2   Air-Walker\n",
      "3        Amazo\n",
      "4         Ammo\n"
     ]
    }
   ],
   "source": [
    "#16. Show first five records of point 15\n",
    "# use sqldf to run SQL query that selects the top 5 names of all the supers that are bad\n",
    "output = ps.sqldf(\"select Name from df where Alignment = 'bad' limit 5\")\n",
    "print(output)"
   ]
  },
  {
   "cell_type": "code",
   "execution_count": 17,
   "id": "ebbadc3d-cad5-4ca9-8e09-4185507b9fc8",
   "metadata": {},
   "outputs": [
    {
     "name": "stdout",
     "output_type": "stream",
     "text": [
      "             Name  Speed\n",
      "0      Air-Walker    100\n",
      "1           Amazo    100\n",
      "2  Superboy-Prime    100\n",
      "3            Zoom    100\n",
      "4     General Zod     96\n"
     ]
    }
   ],
   "source": [
    "#17. Show top five fastest super villains in terms of super speed\n",
    "# use sqldf to run SQL query that selects the top 5 names of all the supers that are bad and have the highest speed\n",
    "output = ps.sqldf(\"select name, speed from df where Alignment = 'bad' order by speed desc limit 5\")\n",
    "print(output)"
   ]
  },
  {
   "cell_type": "code",
   "execution_count": 18,
   "id": "21ea2e25-924d-4e3e-b328-156f5f7e12d5",
   "metadata": {},
   "outputs": [
    {
     "name": "stdout",
     "output_type": "stream",
     "text": [
      "              Name  Intelligence\n",
      "0  Mister Mxyzptlk           113\n",
      "1       Apocalypse           100\n",
      "2         Brainiac           100\n",
      "3      Doctor Doom           100\n",
      "4            Joker           100\n"
     ]
    },
    {
     "data": {
      "image/png": "[encoded data removed]",
      "text/plain": [
       "<Figure size 432x288 with 1 Axes>"
      ]
     },
     "metadata": {
      "needs_background": "light"
     },
     "output_type": "display_data"
    }
   ],
   "source": [
    "#18. Top five super villains in terms of intelligence\n",
    "# use sqldf to run SQL query that pulls the top 5 names and intelligence level from the bad supers\n",
    "output = ps.sqldf(\"select name, intelligence from df where Alignment = 'bad' order by intelligence desc limit 5\")\n",
    "print(output)\n",
    "# use the previous output and grab the name (y) and intelligence (x)\n",
    "X = output.iloc[:,0]\n",
    "Y = output.iloc[:,1]\n",
    "# create the bar graph and set the color to green\n",
    "plt.barh(X, Y, color='m')\n",
    "# change the title and the x & y labels\n",
    "plt.title(\"Bad Super Intelligence\")\n",
    "plt.ylabel(\"Name\")\n",
    "plt.xlabel(\"Intelligence Level\")\n",
    "plt.show()"
   ]
  },
  {
   "cell_type": "code",
   "execution_count": 19,
   "id": "cb029591-dd84-4982-a81b-5947cffa0e3d",
   "metadata": {},
   "outputs": [
    {
     "data": {
      "image/png": "[encoded data removed]",
      "text/plain": [
       "<Figure size 720x720 with 1 Axes>"
      ]
     },
     "metadata": {
      "needs_background": "light"
     },
     "output_type": "display_data"
    }
   ],
   "source": [
    "#19. Show who is most dangerous super villain after calculating their total (top 5 only)\n",
    "# use sqldf to pull the top 5 total scores and their names where the alignment is bad.\n",
    "output = ps.sqldf(\"select name, total from df where Alignment = 'bad' order by total desc limit 5\")\n",
    "# print(output)\n",
    "# use the previous output and grab the name (x) and total (y)\n",
    "x = output.iloc[:,0]\n",
    "y = output.iloc[:,1]\n",
    "# create a horizontal bar graph and set the size\n",
    "fig, ax = plt.subplots(figsize=(10, 10))\n",
    "bars = ax.barh(x,y, 0.5, color = 'tab:cyan')\n",
    "# get the width of the bars so we know where to put the text and set the labels to the total score\n",
    "for bar in bars:\n",
    "  width = bar.get_width()\n",
    "  label_y_pos = bar.get_y() + bar.get_height() / 2\n",
    "  ax.text(width, label_y_pos, s=f'{width}', va='center')\n",
    "for tick in ax.yaxis.get_major_ticks():\n",
    "  tick.label.set_fontsize(14)\n",
    "# label the graph, the x, and the y axis\n",
    "plt.title('Top 5 Bad Supers and Their Total Scores')\n",
    "plt.xlabel('Total Score ')\n",
    "plt.ylabel('Name')\n",
    "plt.show()"
   ]
  },
  {
   "cell_type": "code",
   "execution_count": 20,
   "id": "f5ac5762-6ebb-4f2e-a0c0-545c3c3c6a08",
   "metadata": {},
   "outputs": [
    {
     "data": {
      "text/plain": [
       "Text(0.5, 0, 'Speed')"
      ]
     },
     "execution_count": 20,
     "metadata": {},
     "output_type": "execute_result"
    },
    {
     "data": {
      "image/png": "[encoded data removed]",
      "text/plain": [
       "<Figure size 720x360 with 1 Axes>"
      ]
     },
     "metadata": {
      "needs_background": "light"
     },
     "output_type": "display_data"
    }
   ],
   "source": [
    "#20. Draw a histogram for speed of super heroes having fig size 10,5 , provide speed in\n",
    "#histogram for only good alignment super heroes ,title should be \"distribution of\n",
    "#speed\" , xlabel should be \"speed\"\n",
    "output = ps.sqldf(\"select speed from df where Alignment = 'good'\")\n",
    "# print(output)\n",
    "# Creating histogram change the size of the figure\n",
    "fig, ax = plt.subplots(figsize=(10, 5))\n",
    "ax.hist(output)\n",
    "# Set title\n",
    "ax.set_title(\"Distribution of speed\")\n",
    "# adding labels\n",
    "ax.set_xlabel('Speed')"
   ]
  },
  {
   "cell_type": "code",
   "execution_count": 21,
   "id": "8f9f457e-1ab7-4d7c-a8e5-746f76ab5e04",
   "metadata": {},
   "outputs": [
    {
     "data": {
      "text/plain": [
       "Text(0.5, 0, 'Combat')"
      ]
     },
     "execution_count": 21,
     "metadata": {},
     "output_type": "execute_result"
    },
    {
     "data": {
      "image/png": "[encoded data removed]",
      "text/plain": [
       "<Figure size 720x360 with 1 Axes>"
      ]
     },
     "metadata": {
      "needs_background": "light"
     },
     "output_type": "display_data"
    }
   ],
   "source": [
    "#21. Draw a histogram for combat of super villains having fig size 10,5 , provide combat in\n",
    "#histogram for only bad alignment super heroes ,title should be \"distribution of\n",
    "#combat\" , xlabel should be \"combat\"\n",
    "output = ps.sqldf(\"select combat from df where Alignment = 'bad'\")\n",
    "# print(output)\n",
    "# Creating histogram change the size of the figure\n",
    "fig, ax = plt.subplots(figsize=(10, 5))\n",
    "ax.hist(output)\n",
    "# Set title\n",
    "ax.set_title(\"Distribution of combat\")\n",
    "# adding labels\n",
    "ax.set_xlabel('Combat')"
   ]
  },
  {
   "cell_type": "code",
   "execution_count": 22,
   "id": "9e53db8c-6d05-4358-b31b-03c9601bc421",
   "metadata": {},
   "outputs": [],
   "source": [
    "# BONUS: Can go beyond the scope and extract some different information \n",
    "# on different characters and their properties. Can draw some more plots \n",
    "# and histograms."
   ]
  }
 ],
 "metadata": {
  "kernelspec": {
   "display_name": "Python 3",
   "language": "python",
   "name": "python3"
  },
  "language_info": {
   "codemirror_mode": {
    "name": "ipython",
    "version": 3
   },
   "file_extension": ".py",
   "mimetype": "text/x-python",
   "name": "python",
   "nbconvert_exporter": "python",
   "pygments_lexer": "ipython3",
   "version": "3.8.8"
  }
 },
 "nbformat": 4,
 "nbformat_minor": 5
}
